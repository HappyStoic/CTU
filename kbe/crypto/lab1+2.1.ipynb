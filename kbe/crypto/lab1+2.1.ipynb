{
 "cells": [
  {
   "cell_type": "code",
   "execution_count": 7,
   "id": "22407448-7b23-4f06-9f3a-490922d7bdfa",
   "metadata": {},
   "outputs": [
    {
     "name": "stdout",
     "output_type": "stream",
     "text": [
      "foo\n",
      "666f6f\n",
      "b'foo'\n",
      "666f6f\n",
      "b'foo'\n",
      "foo\n"
     ]
    }
   ],
   "source": [
    "# EXERCISE 1.0\n",
    "\n",
    "def bin2txt(arg: bytes) -> str:\n",
    "    return arg.decode(\"utf-8\")\n",
    "\n",
    "def bin2hex(arg) -> str:\n",
    "    return arg.hex()\n",
    "\n",
    "def txt2bin(arg) -> bytes:\n",
    "    return arg.encode()\n",
    "\n",
    "def hex2bin(arg) -> bytes:\n",
    "    return bytes.fromhex(arg)\n",
    "\n",
    "def hex2txt(arg) -> str:\n",
    "    return bin2txt(hex2bin(arg))\n",
    "\n",
    "def txt2hex(arg) -> str:\n",
    "    return bin2hex(txt2bin(arg))\n",
    "\n",
    "t, b, h = \"foo\", b\"foo\", \"666f6f\"\n",
    "print(bin2txt(b))\n",
    "print(bin2hex(b))\n",
    "print(txt2bin(t))\n",
    "print(txt2hex(t))\n",
    "print(hex2bin(h))\n",
    "print(hex2txt(h))"
   ]
  },
  {
   "cell_type": "code",
   "execution_count": 8,
   "id": "bed1da6b-14aa-4935-8439-b744dadc1d45",
   "metadata": {},
   "outputs": [
    {
     "name": "stdout",
     "output_type": "stream",
     "text": [
      "121917165901181e01154452101d16061c1700071100 == 121917165901181e01154452101d16061c1700071100     True\n",
      "b'the world is yours' ^ b'illmatic' = 1d04094d161b1b0f0d4c051e410d06161b1f\n"
     ]
    }
   ],
   "source": [
    "# EXERCISE 1.1\n",
    "\n",
    "tm, m = txt2bin(\"everything remains raw\"), txt2bin(\"the world is yours\")\n",
    "tk, k = txt2bin(\"word up\"), txt2bin(\"illmatic\")\n",
    "tc = \"121917165901181e01154452101d16061c1700071100\"\n",
    "\n",
    "def xor(msg: bytes, key: bytes) -> bytes:\n",
    "    multiple = (len(msg) // len(key)) + 1\n",
    "    return bytes([x^y for x,y in zip(msg, key*multiple)])\n",
    "\n",
    "print(f\"{tc} == {bin2hex(xor(tm, tk))}     {bin2hex(xor(tm, tk)) == tc}\")\n",
    "print(f\"{m} ^ {k} = {bin2hex(xor(m, k))}\")\n"
   ]
  },
  {
   "cell_type": "code",
   "execution_count": 9,
   "id": "d7e6e601-bc96-4eb0-960e-49bdf6d3d3f3",
   "metadata": {},
   "outputs": [
    {
     "data": {
      "text/plain": [
       "'dolla dolla bill yo'"
      ]
     },
     "execution_count": 9,
     "metadata": {},
     "output_type": "execute_result"
    }
   ],
   "source": [
    "# EXERCISE 1.2\n",
    "\n",
    "# There are repeating groups of bytes in hex-encoded ciphertext,\n",
    "# thus revealing position of same characters/words \n",
    "# (3 times double 'l', 3 spaces separating, 2 same words)\n",
    "bin2txt(xor(hex2bin(\"404b48484504404b48484504464d4848045d4b\"), b\"$\"))"
   ]
  },
  {
   "cell_type": "code",
   "execution_count": 10,
   "id": "15804684-cbd5-4f58-887b-7f813b7175a5",
   "metadata": {},
   "outputs": [
    {
     "name": "stdout",
     "output_type": "stream",
     "text": [
      "Busta Rhymes up in the place, true indeed\n"
     ]
    }
   ],
   "source": [
    "# EXERCISE 1.3|1.4\n",
    "\n",
    "import string\n",
    "from collections import Counter\n",
    "\n",
    "def is_english(txt: str, diff = 5):\n",
    "    allowed = lambda arg: all([char in string.printable for char in arg])\n",
    "    if not allowed(txt):\n",
    "        return False\n",
    "    \n",
    "    EN_FREQ = {\n",
    "        'E' : 12.0,'T' : 9.10,'A' : 8.12,'O' : 7.68,\n",
    "        'I' : 7.31,'N' : 6.95,'S' : 6.28,'R' : 6.02,\n",
    "        'H' : 5.92,'D' : 4.32,'L' : 3.98,'U' : 2.88,\n",
    "        'C' : 2.71,'M' : 2.61,'F' : 2.30,'Y' : 2.11,\n",
    "        'W' : 2.09,'G' : 2.03,'P' : 1.82,'B' : 1.49,\n",
    "        'V' : 1.11,'K' : 0.69,'X' : 0.17,'Q' : 0.11,\n",
    "        'J' : 0.10,'Z' : 0.07 }\n",
    "\n",
    "    letters = ''.join([x for x in txt.upper() if x in string.ascii_uppercase])\n",
    "    counter = Counter(letters)\n",
    "    \n",
    "    freq = {k: (100*v)/len(letters) for k,v in counter.items()}\n",
    "    \n",
    "    for en_k, en_v in EN_FREQ.items():\n",
    "        if en_k not in freq:\n",
    "            continue\n",
    "\n",
    "        if abs(en_v - freq[en_k]) > diff:\n",
    "            return False\n",
    "    return True\n",
    "        \n",
    "\n",
    "with open(\"text1.hex\") as f:\n",
    "    c = hex2bin(f.read())\n",
    "\n",
    "for l in string.ascii_uppercase:\n",
    "    decrypted = bin2txt(xor(c, l.encode()))\n",
    "    if not is_english(decrypted):\n",
    "        continue\n",
    "        \n",
    "    print(decrypted.split(\"\\n\")[0])\n",
    "\n",
    "    "
   ]
  },
  {
   "cell_type": "code",
   "execution_count": 273,
   "id": "1b73c8a6-e033-4390-a26a-050c46ea4d94",
   "metadata": {},
   "outputs": [
    {
     "name": "stdout",
     "output_type": "stream",
     "text": [
      "Key: b'SupremeNTM'\n",
      "__________________________________________________\n",
      "C'est le nouveau, phenomenal, freestyle du visage pale\n",
      "Le babtou est de retour, achtung!\n",
      "C'est parti, ca vient de Saint Denis\n",
      "Direct issu de la generation Fonky-Tacchini\n",
      "Pas de soucis, non pas de tiepis ici, pas de chichis\n",
      "...\n"
     ]
    },
    {
     "data": {
      "text/plain": [
       "b'SupremeNTM'"
      ]
     },
     "execution_count": 273,
     "metadata": {},
     "output_type": "execute_result"
    }
   ],
   "source": [
    "# EXERCISE 1.5\n",
    "\n",
    "def crack(cipher, key_length=10, diff=10):\n",
    "    enc_chunks = [c[i::key_length] for i in range(key_length)]\n",
    "    key = []\n",
    "    for enc_chunk in enc_chunks:\n",
    "        candidates = []\n",
    "        for l in string.printable:\n",
    "            dec = xor(enc_chunk, l.encode())\n",
    "            if is_english(bin2txt(dec), diff=diff):\n",
    "                candidates.append(l)\n",
    "        key.append(candidates)\n",
    "\n",
    "    if all([len(candidates) == 1 for candidates in key]):\n",
    "        key = bytes([ord(x[0]) for x in key])\n",
    "        dec = bin2txt(xor(c, key))\n",
    "        print(f\"Key: {key}\")\n",
    "        print(\"_\"*50)\n",
    "        print(dec[:dec.index(\"\\n\", 200)])\n",
    "        print(\"...\")\n",
    "        return key\n",
    "    elif any([len(candidates) == 0 for candidates in key]):\n",
    "        print(f\"---\")\n",
    "    else:\n",
    "        print(f\"MULTIPLE OPTIONS {key}\")\n",
    "\n",
    "with open(\"text2.hex\") as f:\n",
    "    c = hex2bin(f.read())\n",
    "\n",
    "crack(c)"
   ]
  },
  {
   "cell_type": "code",
   "execution_count": 276,
   "id": "f648d042-3c70-4488-9a63-b34e2821ba2a",
   "metadata": {},
   "outputs": [
    {
     "name": "stdout",
     "output_type": "stream",
     "text": [
      "Testing key length 2 - ---\n",
      "Testing key length 3 - ---\n",
      "Testing key length 4 - ---\n",
      "Testing key length 5 - ---\n",
      "Testing key length 6 - ---\n",
      "Testing key length 7 - ---\n",
      "Testing key length 8 - ---\n",
      "Testing key length 9 - ---\n",
      "Testing key length 10 - ---\n",
      "Testing key length 11 - ---\n",
      "Testing key length 12 - ---\n",
      "Testing key length 13 - ---\n",
      "Testing key length 14 - ---\n",
      "Testing key length 15 - ---\n",
      "Testing key length 16 - Key: b'CL4SS!C_TIM3L35S'\n",
      "__________________________________________________\n",
      "And now for my next number I'd like to return to the...\n",
      "Classic\n",
      "Uh, uh, - timeless\n",
      "Live straight classic\n",
      "Classic\n",
      "Live, straight classic\n",
      "Timeless\n",
      "I'd like to return to the classic\n",
      "Kanye West\n",
      "I'm Rakim, the fiend of a microphone\n",
      "...\n"
     ]
    }
   ],
   "source": [
    "# EXERCISE 1.6\n",
    "\n",
    "with open(\"text3.hex\") as f:\n",
    "    c = hex2bin(f.read())\n",
    "\n",
    "# A bit of bruteforcing\n",
    "for length in range(2, 128):\n",
    "    print(f\"Testing key length {length} - \", end=\"\")\n",
    "    if crack(c, key_length = length, diff=8):\n",
    "        break\n"
   ]
  },
  {
   "cell_type": "code",
   "execution_count": 269,
   "id": "cf1c59b0-c11b-4d90-81da-479f3ddaeee0",
   "metadata": {},
   "outputs": [
    {
     "name": "stdout",
     "output_type": "stream",
     "text": [
      "PMbELEUfmIA\n",
      "\n"
     ]
    }
   ],
   "source": [
    "# EXERCISE 1.7\n",
    "\n",
    "# \"CL4SS!C_TIM3L35S\" is also Bonus task password\n",
    "print(open(\"philosophy.txt\", \"r\").read())"
   ]
  },
  {
   "cell_type": "code",
   "execution_count": 270,
   "id": "40ca4f84-8b2e-456d-aec3-595075c7e1cb",
   "metadata": {},
   "outputs": [],
   "source": [
    "# EXERCISE 2.1 \n",
    "\n",
    "# I, Martin Řepa, understand that cryptography is easy to mess up, and\n",
    "# that I will not carelessly combine pieces of cryptographic ciphers to\n",
    "# encrypt my users' data. I will not write crypto code myself, but defer to\n",
    "# high-level libaries written by experts who took the right decisions for me,\n",
    "# like NaCL."
   ]
  }
 ],
 "metadata": {
  "kernelspec": {
   "display_name": "Python 3 (ipykernel)",
   "language": "python",
   "name": "python3"
  },
  "language_info": {
   "codemirror_mode": {
    "name": "ipython",
    "version": 3
   },
   "file_extension": ".py",
   "mimetype": "text/x-python",
   "name": "python",
   "nbconvert_exporter": "python",
   "pygments_lexer": "ipython3",
   "version": "3.9.2"
  }
 },
 "nbformat": 4,
 "nbformat_minor": 5
}
